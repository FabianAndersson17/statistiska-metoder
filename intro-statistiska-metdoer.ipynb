{
 "cells": [
  {
   "cell_type": "code",
   "execution_count": null,
   "metadata": {},
   "outputs": [],
   "source": []
  }
 ],
 "metadata": {
  "interpreter": {
   "hash": "3bf87cb5bec3984a23538632349be674eb23a74ce60ffa9964cb54a96a85de9a"
  },
  "kernelspec": {
   "display_name": "Python 3.9.6 64-bit ('statistiska-metoder-PYzvqebc': pipenv)",
   "language": "python",
   "name": "python3"
  },
  "language_info": {
   "name": "python",
   "version": "3.9.6"
  },
  "orig_nbformat": 4
 },
 "nbformat": 4,
 "nbformat_minor": 2
}
